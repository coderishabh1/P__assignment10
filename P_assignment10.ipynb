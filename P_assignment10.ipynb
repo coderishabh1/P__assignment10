{
 "cells": [
  {
   "cell_type": "code",
   "execution_count": null,
   "id": "a663a609-c8c7-42cb-9ce1-878b5a410057",
   "metadata": {},
   "outputs": [],
   "source": [
    "##ques1"
   ]
  },
  {
   "cell_type": "code",
   "execution_count": null,
   "id": "f7211d58-114d-4757-a928-3a654eea73cf",
   "metadata": {},
   "outputs": [],
   "source": [
    "list = []\n",
    "l = int (input())\n",
    "for i in range (l):\n",
    "    ele=int(input())\n",
    "    list.append(ele)\n",
    "print (sum(list))"
   ]
  },
  {
   "cell_type": "code",
   "execution_count": null,
   "id": "2ab47186-2a21-4db4-829b-081982c811c9",
   "metadata": {},
   "outputs": [],
   "source": [
    "##ques2"
   ]
  },
  {
   "cell_type": "code",
   "execution_count": null,
   "id": "6674352b-a0be-41c0-bd55-9ec1c2e2cef9",
   "metadata": {},
   "outputs": [],
   "source": [
    "list = []\n",
    "a=1\n",
    "l = int (input())\n",
    "for i in range (l):\n",
    "    ele=int(input())\n",
    "    list.append(ele)\n",
    "for i in range (l):\n",
    "    a=a*list[i]\n",
    "print (a)"
   ]
  },
  {
   "cell_type": "code",
   "execution_count": null,
   "id": "545240f5-8663-40ed-9e1c-ff0a4f3279c1",
   "metadata": {},
   "outputs": [],
   "source": [
    "##ques3"
   ]
  },
  {
   "cell_type": "code",
   "execution_count": null,
   "id": "936bdb26-81d3-4fc0-9084-7431c3d0b9e2",
   "metadata": {},
   "outputs": [],
   "source": [
    "list = []\n",
    "l = int (input())\n",
    "for i in range (l):\n",
    "    ele=int(input())\n",
    "    list.append(ele)\n",
    "for i in range (l-1):\n",
    "    if(list[i+1]>list[i]):\n",
    "        list[i+1]=list[i]\n",
    "print (\"smallest number is :\",list[l-1])\n",
    "        \n",
    "        "
   ]
  },
  {
   "cell_type": "code",
   "execution_count": null,
   "id": "b4427a7f-e62c-4111-94ae-eedb374a2502",
   "metadata": {},
   "outputs": [],
   "source": [
    "##ques4"
   ]
  },
  {
   "cell_type": "code",
   "execution_count": null,
   "id": "517cbcc0-a290-4339-9017-3c2adea25fca",
   "metadata": {},
   "outputs": [],
   "source": [
    "list = []\n",
    "l = int (input())\n",
    "for i in range (l):\n",
    "    ele=int(input())\n",
    "    list.append(ele)\n",
    "for i in range (l-1):\n",
    "    if(list[i+1]<list[i]):\n",
    "        list[i+1]=list[i]\n",
    "print (\"largest number is :\",list[l-1])"
   ]
  },
  {
   "cell_type": "code",
   "execution_count": null,
   "id": "7b585b52-fb8e-4e73-a74a-871f2443d695",
   "metadata": {},
   "outputs": [],
   "source": [
    "##quest6"
   ]
  },
  {
   "cell_type": "code",
   "execution_count": null,
   "id": "73af6633-e2dc-4e9d-9467-31cba6710893",
   "metadata": {},
   "outputs": [],
   "source": [
    "list = []\n",
    "n= int (input())\n",
    "l = int (input())\n",
    "for i in range (l):\n",
    "    ele=int(input())\n",
    "    list.append(ele)\n",
    "list.sort()\n",
    "for i in range (1,n+1):\n",
    "    print (f\"{i} largest number is:\",list[l-i])"
   ]
  },
  {
   "cell_type": "code",
   "execution_count": null,
   "id": "8b2d442b-ae96-4df4-be49-9467a9a3821c",
   "metadata": {},
   "outputs": [],
   "source": [
    "##quest7"
   ]
  },
  {
   "cell_type": "code",
   "execution_count": null,
   "id": "dda3f19f-86c8-4e7a-994b-5ac387bf5dc5",
   "metadata": {},
   "outputs": [],
   "source": [
    "list = []\n",
    "l = int (input())\n",
    "for i in range (l):\n",
    "    ele=int(input())\n",
    "    list.append(ele)\n",
    "for i in range (l):\n",
    "    if (list[i]%2==0):\n",
    "        print (\"even number is \",list[i])\n",
    "        "
   ]
  },
  {
   "cell_type": "code",
   "execution_count": null,
   "id": "4e012ab9-0683-41f2-aedc-63efb46a4341",
   "metadata": {},
   "outputs": [],
   "source": [
    "##Ques8"
   ]
  },
  {
   "cell_type": "code",
   "execution_count": null,
   "id": "b383ab45-0ff5-4656-8ea4-23cd28908cf3",
   "metadata": {},
   "outputs": [],
   "source": [
    "list = []\n",
    "l = int (input())\n",
    "for i in range (l):\n",
    "    ele=int(input())\n",
    "    list.append(ele)\n",
    "for i in range (l):\n",
    "    if (list[i]%2!=0):\n",
    "        print (\"even number is \",list[i])"
   ]
  },
  {
   "cell_type": "code",
   "execution_count": null,
   "id": "61e05d01-7d05-4737-b54c-b1bda10f1543",
   "metadata": {},
   "outputs": [],
   "source": [
    "##ques9"
   ]
  },
  {
   "cell_type": "code",
   "execution_count": null,
   "id": "3ba72525-1600-49d7-be90-ce6215f8db07",
   "metadata": {},
   "outputs": [],
   "source": [
    "list = []\n",
    "l = int (input())\n",
    "for i in range (l):\n",
    "    ele=(input())\n",
    "    list.append(ele)\n",
    "corrected_list = ' '.join(list).split()\n",
    "print(corrected_list)"
   ]
  },
  {
   "cell_type": "code",
   "execution_count": null,
   "id": "4efa42a1-4888-4b29-a173-56b7e90b9152",
   "metadata": {},
   "outputs": [],
   "source": [
    "##ques5"
   ]
  },
  {
   "cell_type": "code",
   "execution_count": null,
   "id": "3c2f4022-3505-460b-b76f-067c72182307",
   "metadata": {},
   "outputs": [],
   "source": [
    "list = []\n",
    "l = int (input())\n",
    "for i in range (l):\n",
    "    ele=int(input())\n",
    "    list.append(ele)\n",
    "for i in range (l-1):\n",
    "    if(list[i+1]<list[i]):\n",
    "        list[i+1]=list[i]\n",
    "print (\"largest number is :\",list[l-2])"
   ]
  },
  {
   "cell_type": "code",
   "execution_count": null,
   "id": "69680c85-c6af-4cfa-8a7a-d5e57cd2182d",
   "metadata": {},
   "outputs": [],
   "source": [
    "##ques10"
   ]
  },
  {
   "cell_type": "code",
   "execution_count": null,
   "id": "cb050543-334e-4015-ae88-ec4b460d4633",
   "metadata": {},
   "outputs": [],
   "source": [
    "##clonning\n",
    "def Cloning(list1):\n",
    "    li_copy = list1[:]\n",
    "    return li_copy\n",
    "list1 = []\n",
    "l = int (input())\n",
    "for i in range (l):\n",
    "    ele=int(input())\n",
    "    list1.append(ele)\n",
    "list2 = Cloning(list1)\n",
    "print(\"Original List:\", list1)\n",
    "print(\"After Cloning:\", list2)\n"
   ]
  },
  {
   "cell_type": "code",
   "execution_count": null,
   "id": "687e65ce-0719-4e01-a41a-59278c9e5d00",
   "metadata": {},
   "outputs": [],
   "source": [
    "##copying"
   ]
  },
  {
   "cell_type": "code",
   "execution_count": null,
   "id": "b57ff56c-b524-4b2c-9489-77b4effe5ea8",
   "metadata": {},
   "outputs": [],
   "source": [
    "import copy\n",
    "\n",
    "list1 = [1, 2, [3,5], 4]\n",
    "   \n",
    "# using copy for shallow copy \n",
    "list2 = copy.copy(list1)\n",
    " \n",
    "print(list2)"
   ]
  },
  {
   "cell_type": "code",
   "execution_count": null,
   "id": "8a57ccbe-bc12-4205-8f35-749f5723edae",
   "metadata": {},
   "outputs": [],
   "source": [
    "##quest11"
   ]
  },
  {
   "cell_type": "code",
   "execution_count": null,
   "id": "b36517c7-58ce-4bf9-9610-d26c80cfdc77",
   "metadata": {},
   "outputs": [],
   "source": [
    "list = []\n",
    "l = int (input())\n",
    "for i in range (l):\n",
    "    ele=int(input())\n",
    "    list.append(ele)\n",
    "for i in range(l):\n",
    "    print(list.count(list[i]))"
   ]
  },
  {
   "cell_type": "code",
   "execution_count": null,
   "id": "bb15e831-1397-4b05-a4d8-a7dce5f37ea7",
   "metadata": {},
   "outputs": [],
   "source": []
  },
  {
   "cell_type": "code",
   "execution_count": null,
   "id": "60c4aa05-7a93-4bff-8e11-f09364719294",
   "metadata": {},
   "outputs": [],
   "source": []
  }
 ],
 "metadata": {
  "kernelspec": {
   "display_name": "Python 3 (ipykernel)",
   "language": "python",
   "name": "python3"
  },
  "language_info": {
   "codemirror_mode": {
    "name": "ipython",
    "version": 3
   },
   "file_extension": ".py",
   "mimetype": "text/x-python",
   "name": "python",
   "nbconvert_exporter": "python",
   "pygments_lexer": "ipython3",
   "version": "3.10.6"
  }
 },
 "nbformat": 4,
 "nbformat_minor": 5
}
